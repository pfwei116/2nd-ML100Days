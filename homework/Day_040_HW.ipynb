{
 "cells": [
  {
   "cell_type": "markdown",
   "metadata": {},
   "source": [
    "## [作業重點]\n",
    "使用 Sklearn 中的 Lasso, Ridge 模型，來訓練各種資料集，務必了解送進去模型訓練的**資料型態**為何，也請了解模型中各項參數的意義。\n",
    "\n",
    "機器學習的模型非常多種，但要訓練的資料多半有固定的格式，確保你了解訓練資料的格式為何，這樣在應用新模型時，就能夠最快的上手開始訓練！"
   ]
  },
  {
   "cell_type": "markdown",
   "metadata": {},
   "source": [
    "## 練習時間\n",
    "試著使用 sklearn datasets 的其他資料集 (boston, ...)，來訓練自己的線性迴歸模型，並加上適當的正則話來觀察訓練情形。"
   ]
  },
  {
   "cell_type": "code",
   "execution_count": 13,
   "metadata": {},
   "outputs": [],
   "source": [
    "from sklearn import datasets\n",
    "from sklearn.model_selection import train_test_split\n",
    "from sklearn.linear_model import LinearRegression, Lasso, Ridge\n",
    "from sklearn.metrics import r2_score, mean_squared_error "
   ]
  },
  {
   "cell_type": "code",
   "execution_count": 2,
   "metadata": {},
   "outputs": [],
   "source": [
    "data = datasets.load_boston()"
   ]
  },
  {
   "cell_type": "code",
   "execution_count": 4,
   "metadata": {},
   "outputs": [],
   "source": [
    "X = data['data']"
   ]
  },
  {
   "cell_type": "code",
   "execution_count": 5,
   "metadata": {},
   "outputs": [],
   "source": [
    "y = data['target']"
   ]
  },
  {
   "cell_type": "code",
   "execution_count": 8,
   "metadata": {},
   "outputs": [],
   "source": [
    "train_X, test_X, train_y, test_y = train_test_split(X, y, test_size=0.2)"
   ]
  },
  {
   "cell_type": "code",
   "execution_count": 19,
   "metadata": {},
   "outputs": [
    {
     "name": "stdout",
     "output_type": "stream",
     "text": [
      "coef: [-1.08541364e-01  4.30751826e-02  3.99505269e-02  3.21056327e+00\n",
      " -1.55762390e+01  4.31264488e+00 -9.12867961e-03 -1.51995196e+00\n",
      "  3.06415619e-01 -1.27643831e-02 -8.51339206e-01  1.18301157e-02\n",
      " -5.28369419e-01]\n",
      "r2-score:  0.6593825411342711\n",
      "mse:  28.333210099323917\n"
     ]
    }
   ],
   "source": [
    "# linear regression\n",
    "\n",
    "linreg = LinearRegression()\n",
    "linreg.fit(train_X, train_y)\n",
    "\n",
    "pred_y = linreg.predict(test_X)\n",
    "\n",
    "print('coef:', linreg.coef_)\n",
    "print('r2-score: ', r2_score(test_y, pred_y))\n",
    "print('mse: ', mean_squared_error(test_y, pred_y))"
   ]
  },
  {
   "cell_type": "code",
   "execution_count": 20,
   "metadata": {},
   "outputs": [
    {
     "name": "stdout",
     "output_type": "stream",
     "text": [
      "coef: [-0.05661146  0.04894464 -0.          0.         -0.          1.31101291\n",
      "  0.01491228 -0.77396705  0.2488044  -0.01468501 -0.61580444  0.01026923\n",
      " -0.7602163 ]\n",
      "r2-score:  0.6506866691903921\n",
      "mse:  29.05654931864405\n"
     ]
    }
   ],
   "source": [
    "# lasso regression\n",
    "\n",
    "lassoreg = Lasso(alpha=1.0)\n",
    "lassoreg.fit(train_X, train_y)\n",
    "\n",
    "pred_y = lassoreg.predict(test_X)\n",
    "\n",
    "print('coef:', lassoreg.coef_)\n",
    "print('r2-score: ', r2_score(test_y, pred_y))\n",
    "print('mse: ', mean_squared_error(test_y, pred_y))"
   ]
  },
  {
   "cell_type": "code",
   "execution_count": 24,
   "metadata": {},
   "outputs": [
    {
     "name": "stdout",
     "output_type": "stream",
     "text": [
      "coef: [-0.08024526  0.04715076 -0.          0.         -0.          2.93041038\n",
      " -0.         -1.0097272   0.26562795 -0.01488775 -0.67122333  0.01170364\n",
      " -0.65823437]\n",
      "r2-score:  0.6607032251355622\n",
      "mse:  28.223353084337067\n"
     ]
    }
   ],
   "source": [
    "# lasso regression\n",
    "\n",
    "lassoreg = Lasso(alpha=0.5)\n",
    "lassoreg.fit(train_X, train_y)\n",
    "\n",
    "pred_y = lassoreg.predict(test_X)\n",
    "\n",
    "print('coef:', lassoreg.coef_)\n",
    "print('r2-score: ', r2_score(test_y, pred_y))\n",
    "print('mse: ', mean_squared_error(test_y, pred_y))"
   ]
  },
  {
   "cell_type": "code",
   "execution_count": 21,
   "metadata": {},
   "outputs": [
    {
     "name": "stdout",
     "output_type": "stream",
     "text": [
      "coef: [-0.10459476  0.04435802  0.01142952  3.03150756 -8.65167906  4.37582138\n",
      " -0.01484239 -1.41080627  0.28738769 -0.01321374 -0.76658014  0.01225084\n",
      " -0.536938  ]\n",
      "r2-score:  0.6528236124803253\n",
      "mse:  28.878794298670496\n"
     ]
    }
   ],
   "source": [
    "# Ridge regression\n",
    "\n",
    "ridgereg = Ridge(alpha=1.0)\n",
    "ridgereg.fit(train_X, train_y)\n",
    "\n",
    "pred_y = ridgereg.predict(test_X)\n",
    "\n",
    "print('coef:', ridgereg.coef_)\n",
    "print('r2-score: ', r2_score(test_y, pred_y))\n",
    "print('mse: ', mean_squared_error(test_y, pred_y))"
   ]
  },
  {
   "cell_type": "code",
   "execution_count": 25,
   "metadata": {},
   "outputs": [
    {
     "name": "stdout",
     "output_type": "stream",
     "text": [
      "coef: [ -0.10598895   0.04387689   0.02154838   3.11215246 -11.12291265\n",
      "   4.35932788  -0.01286621  -1.4497205    0.29393443  -0.01304055\n",
      "  -0.79624085   0.01210342  -0.5334319 ]\n",
      "r2-score:  0.6553796183625207\n",
      "mse:  28.666180852734655\n"
     ]
    }
   ],
   "source": [
    "# Ridge regression\n",
    "\n",
    "ridgereg = Ridge(alpha=0.5)\n",
    "ridgereg.fit(train_X, train_y)\n",
    "\n",
    "pred_y = ridgereg.predict(test_X)\n",
    "\n",
    "print('coef:', ridgereg.coef_)\n",
    "print('r2-score: ', r2_score(test_y, pred_y))\n",
    "print('mse: ', mean_squared_error(test_y, pred_y))"
   ]
  },
  {
   "cell_type": "code",
   "execution_count": null,
   "metadata": {},
   "outputs": [],
   "source": []
  }
 ],
 "metadata": {
  "kernelspec": {
   "display_name": "Python 3",
   "language": "python",
   "name": "python3"
  },
  "language_info": {
   "codemirror_mode": {
    "name": "ipython",
    "version": 3
   },
   "file_extension": ".py",
   "mimetype": "text/x-python",
   "name": "python",
   "nbconvert_exporter": "python",
   "pygments_lexer": "ipython3",
   "version": "3.7.3"
  }
 },
 "nbformat": 4,
 "nbformat_minor": 2
}
